{
 "cells": [
  {
   "attachments": {},
   "cell_type": "markdown",
   "metadata": {},
   "source": [
    "# get param counts"
   ]
  },
  {
   "cell_type": "code",
   "execution_count": 1,
   "metadata": {},
   "outputs": [],
   "source": [
    "from torchinfo import summary\n",
    "\n",
    "from wawenets.model import WAWEnet2020\n",
    "from wawenets.reference_models import Wav2VecRef"
   ]
  },
  {
   "cell_type": "code",
   "execution_count": 14,
   "metadata": {},
   "outputs": [],
   "source": [
    "batch_size = 1\n",
    "input_size = (batch_size, 1, 48000)"
   ]
  },
  {
   "cell_type": "code",
   "execution_count": 15,
   "metadata": {},
   "outputs": [],
   "source": [
    "wawenet = WAWEnet2020()"
   ]
  },
  {
   "cell_type": "code",
   "execution_count": 16,
   "metadata": {},
   "outputs": [
    {
     "data": {
      "text/plain": [
       "==========================================================================================\n",
       "Layer (type:depth-idx)                   Output Shape              Param #\n",
       "==========================================================================================\n",
       "WAWEnet2020                              [1, 1]                    --\n",
       "├─Sequential: 1-1                        [1, 96, 1]                --\n",
       "│    └─Conv1d: 2-1                       [1, 96, 48000]            384\n",
       "│    └─BatchNorm1d: 2-2                  [1, 96, 48000]            192\n",
       "│    └─ReLU: 2-3                         [1, 96, 48000]            --\n",
       "│    └─AvgPool1d: 2-4                    [1, 96, 12000]            --\n",
       "│    └─Conv1d: 2-5                       [1, 96, 12000]            27,744\n",
       "│    └─BatchNorm1d: 2-6                  [1, 96, 12000]            192\n",
       "│    └─ReLU: 2-7                         [1, 96, 12000]            --\n",
       "│    └─AvgPool1d: 2-8                    [1, 96, 6000]             --\n",
       "│    └─Conv1d: 2-9                       [1, 96, 6000]             27,744\n",
       "│    └─BatchNorm1d: 2-10                 [1, 96, 6000]             192\n",
       "│    └─ReLU: 2-11                        [1, 96, 6000]             --\n",
       "│    └─AvgPool1d: 2-12                   [1, 96, 3000]             --\n",
       "│    └─Conv1d: 2-13                      [1, 96, 3000]             27,744\n",
       "│    └─BatchNorm1d: 2-14                 [1, 96, 3000]             192\n",
       "│    └─ReLU: 2-15                        [1, 96, 3000]             --\n",
       "│    └─AvgPool1d: 2-16                   [1, 96, 750]              --\n",
       "│    └─Conv1d: 2-17                      [1, 96, 750]              27,744\n",
       "│    └─BatchNorm1d: 2-18                 [1, 96, 750]              192\n",
       "│    └─ReLU: 2-19                        [1, 96, 750]              --\n",
       "│    └─AvgPool1d: 2-20                   [1, 96, 375]              --\n",
       "│    └─ConstantPad1d: 2-21               [1, 96, 376]              --\n",
       "│    └─Conv1d: 2-22                      [1, 96, 376]              27,744\n",
       "│    └─BatchNorm1d: 2-23                 [1, 96, 376]              192\n",
       "│    └─ReLU: 2-24                        [1, 96, 376]              --\n",
       "│    └─AvgPool1d: 2-25                   [1, 96, 188]              --\n",
       "│    └─Conv1d: 2-26                      [1, 96, 188]              27,744\n",
       "│    └─BatchNorm1d: 2-27                 [1, 96, 188]              192\n",
       "│    └─ReLU: 2-28                        [1, 96, 188]              --\n",
       "│    └─AvgPool1d: 2-29                   [1, 96, 94]               --\n",
       "│    └─Conv1d: 2-30                      [1, 96, 94]               27,744\n",
       "│    └─BatchNorm1d: 2-31                 [1, 96, 94]               192\n",
       "│    └─ReLU: 2-32                        [1, 96, 94]               --\n",
       "│    └─AvgPool1d: 2-33                   [1, 96, 47]               --\n",
       "│    └─ConstantPad1d: 2-34               [1, 96, 48]               --\n",
       "│    └─Conv1d: 2-35                      [1, 96, 48]               27,744\n",
       "│    └─BatchNorm1d: 2-36                 [1, 96, 48]               192\n",
       "│    └─ReLU: 2-37                        [1, 96, 48]               --\n",
       "│    └─AvgPool1d: 2-38                   [1, 96, 24]               --\n",
       "│    └─Conv1d: 2-39                      [1, 96, 24]               27,744\n",
       "│    └─BatchNorm1d: 2-40                 [1, 96, 24]               192\n",
       "│    └─ReLU: 2-41                        [1, 96, 24]               --\n",
       "│    └─AvgPool1d: 2-42                   [1, 96, 12]               --\n",
       "│    └─Conv1d: 2-43                      [1, 96, 12]               27,744\n",
       "│    └─BatchNorm1d: 2-44                 [1, 96, 12]               192\n",
       "│    └─ReLU: 2-45                        [1, 96, 12]               --\n",
       "│    └─AvgPool1d: 2-46                   [1, 96, 6]                --\n",
       "│    └─Conv1d: 2-47                      [1, 96, 6]                27,744\n",
       "│    └─BatchNorm1d: 2-48                 [1, 96, 6]                192\n",
       "│    └─ReLU: 2-49                        [1, 96, 6]                --\n",
       "│    └─AvgPool1d: 2-50                   [1, 96, 3]                --\n",
       "│    └─Conv1d: 2-51                      [1, 96, 3]                27,744\n",
       "│    └─BatchNorm1d: 2-52                 [1, 96, 3]                192\n",
       "│    └─ReLU: 2-53                        [1, 96, 3]                --\n",
       "│    └─AvgPool1d: 2-54                   [1, 96, 1]                --\n",
       "├─Sequential: 1-2                        [1, 1]                    --\n",
       "│    └─Linear: 2-55                      [1, 1]                    97\n",
       "==========================================================================================\n",
       "Total params: 335,905\n",
       "Trainable params: 335,905\n",
       "Non-trainable params: 0\n",
       "Total mult-adds (M): 642.70\n",
       "==========================================================================================\n",
       "Input size (MB): 0.19\n",
       "Forward/backward pass size (MB): 108.29\n",
       "Params size (MB): 1.34\n",
       "Estimated Total Size (MB): 109.83\n",
       "=========================================================================================="
      ]
     },
     "execution_count": 16,
     "metadata": {},
     "output_type": "execute_result"
    }
   ],
   "source": [
    "summary(wawenet, input_size=input_size)"
   ]
  },
  {
   "cell_type": "code",
   "execution_count": 5,
   "metadata": {},
   "outputs": [
    {
     "name": "stderr",
     "output_type": "stream",
     "text": [
      "DEBUG:hydra.core.utils:Setting JobRuntime:name=UNKNOWN_NAME\n",
      "DEBUG:hydra.core.utils:Setting JobRuntime:name=utils\n",
      "DEBUG:hydra.core.utils:Setting JobRuntime:name=utils\n"
     ]
    }
   ],
   "source": [
    "not_full_wav2vec = Wav2VecRef(train_all=False)"
   ]
  },
  {
   "cell_type": "code",
   "execution_count": 6,
   "metadata": {},
   "outputs": [
    {
     "data": {
      "text/plain": [
       "==============================================================================================================\n",
       "Layer (type:depth-idx)                                       Output Shape              Param #\n",
       "==============================================================================================================\n",
       "Wav2VecRef                                                   [1, 1]                    --\n",
       "├─Wav2Vec2Model: 1-1                                         [149, 1, 768]             768\n",
       "│    └─ConvFeatureExtractionModel: 2-1                       [1, 512, 149]             --\n",
       "│    │    └─ModuleList: 3-1                                  --                        (4,200,448)\n",
       "│    └─LayerNorm: 2-2                                        [1, 149, 512]             (1,024)\n",
       "│    └─Linear: 2-3                                           [1, 149, 768]             (393,984)\n",
       "│    └─Dropout: 2-4                                          [1, 149, 768]             --\n",
       "│    └─Dropout: 2-5                                          [1, 149, 512]             --\n",
       "│    └─TransformerEncoder: 2-6                               [1, 149, 768]             --\n",
       "│    │    └─Sequential: 3-2                                  [1, 768, 149]             (4,719,488)\n",
       "│    │    └─LayerNorm: 3-3                                   [1, 149, 768]             (1,536)\n",
       "│    │    └─ModuleList: 3-4                                  --                        (85,054,464)\n",
       "├─Linear: 1-2                                                [1, 1]                    769\n",
       "==============================================================================================================\n",
       "Total params: 94,372,481\n",
       "Trainable params: 769\n",
       "Non-trainable params: 94,371,712\n",
       "Total mult-adds (G): 19.49\n",
       "==============================================================================================================\n",
       "Input size (MB): 0.19\n",
       "Forward/backward pass size (MB): 198.09\n",
       "Params size (MB): 264.09\n",
       "Estimated Total Size (MB): 462.38\n",
       "=============================================================================================================="
      ]
     },
     "execution_count": 6,
     "metadata": {},
     "output_type": "execute_result"
    }
   ],
   "source": [
    "summary(not_full_wav2vec, input_size=input_size)"
   ]
  },
  {
   "cell_type": "code",
   "execution_count": 9,
   "metadata": {},
   "outputs": [
    {
     "name": "stderr",
     "output_type": "stream",
     "text": [
      "DEBUG:hydra.core.utils:Setting JobRuntime:name=utils\n",
      "DEBUG:hydra.core.utils:Setting JobRuntime:name=utils\n"
     ]
    }
   ],
   "source": [
    "full_wav2vec = Wav2VecRef(train_all=True)"
   ]
  },
  {
   "cell_type": "code",
   "execution_count": 10,
   "metadata": {},
   "outputs": [
    {
     "data": {
      "text/plain": [
       "==============================================================================================================\n",
       "Layer (type:depth-idx)                                       Output Shape              Param #\n",
       "==============================================================================================================\n",
       "Wav2VecRef                                                   [1, 1]                    --\n",
       "├─Wav2Vec2Model: 1-1                                         [149, 1, 768]             768\n",
       "│    └─ConvFeatureExtractionModel: 2-1                       [1, 512, 149]             --\n",
       "│    │    └─ModuleList: 3-1                                  --                        4,200,448\n",
       "│    └─LayerNorm: 2-2                                        [1, 149, 512]             1,024\n",
       "│    └─Linear: 2-3                                           [1, 149, 768]             393,984\n",
       "│    └─Dropout: 2-4                                          [1, 149, 768]             --\n",
       "│    └─Dropout: 2-5                                          [1, 149, 512]             --\n",
       "│    └─TransformerEncoder: 2-6                               [1, 149, 768]             --\n",
       "│    │    └─Sequential: 3-2                                  [1, 768, 149]             4,719,488\n",
       "│    │    └─LayerNorm: 3-3                                   [1, 149, 768]             1,536\n",
       "│    │    └─ModuleList: 3-4                                  --                        85,054,464\n",
       "├─Linear: 1-2                                                [1, 1]                    769\n",
       "==============================================================================================================\n",
       "Total params: 94,372,481\n",
       "Trainable params: 94,372,481\n",
       "Non-trainable params: 0\n",
       "Total mult-adds (G): 19.49\n",
       "==============================================================================================================\n",
       "Input size (MB): 0.19\n",
       "Forward/backward pass size (MB): 198.09\n",
       "Params size (MB): 264.09\n",
       "Estimated Total Size (MB): 462.38\n",
       "=============================================================================================================="
      ]
     },
     "execution_count": 10,
     "metadata": {},
     "output_type": "execute_result"
    }
   ],
   "source": [
    "summary(full_wav2vec, input_size=input_size)"
   ]
  },
  {
   "cell_type": "code",
   "execution_count": null,
   "metadata": {},
   "outputs": [],
   "source": []
  }
 ],
 "metadata": {
  "kernelspec": {
   "display_name": "wenets_wav2vec",
   "language": "python",
   "name": "python3"
  },
  "language_info": {
   "codemirror_mode": {
    "name": "ipython",
    "version": 3
   },
   "file_extension": ".py",
   "mimetype": "text/x-python",
   "name": "python",
   "nbconvert_exporter": "python",
   "pygments_lexer": "ipython3",
   "version": "3.10.11"
  },
  "orig_nbformat": 4
 },
 "nbformat": 4,
 "nbformat_minor": 2
}
